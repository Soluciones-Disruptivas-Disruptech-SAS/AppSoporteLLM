{
 "cells": [
  {
   "cell_type": "code",
   "execution_count": 10,
   "id": "99e2b3f8",
   "metadata": {},
   "outputs": [
    {
     "name": "stdout",
     "output_type": "stream",
     "text": [
      "Overwriting app_soporte.py\n"
     ]
    }
   ],
   "source": [
    "%%writefile app_soporte.py\n",
    "\n",
    "import streamlit as st\n",
    "import requests\n",
    "import json\n",
    "import os\n",
    "\n",
    "# ========================\n",
    "# Configuración\n",
    "# ========================\n",
    "API_URL = \"http://localhost:5000/rag\"  # Cambia si tu Flask está en otro host o puerto\n",
    "HISTORIAL_FILE = \"historial_chat.json\"  # Archivo donde se guarda el historial\n",
    "\n",
    "# ========================\n",
    "# Cargar historial desde disco (si existe)\n",
    "# ========================\n",
    "if os.path.exists(HISTORIAL_FILE):\n",
    "    with open(HISTORIAL_FILE, \"r\", encoding=\"utf-8\") as f:\n",
    "        st.session_state.chat_history = json.load(f)\n",
    "else:\n",
    "    st.session_state.chat_history = []\n",
    "\n",
    "# ========================\n",
    "# Función para enviar pregunta a Flask\n",
    "# ========================\n",
    "def send_question(question, chat_history):\n",
    "    payload = {\n",
    "        \"question\": question,\n",
    "        \"chat_history\": \"\\n\".join([m[\"text\"] for m in chat_history if m[\"role\"] == \"user\"]),\n",
    "        \"session_id\": \"global-chat\"\n",
    "    }\n",
    "    try:\n",
    "        response = requests.post(API_URL, json=payload)\n",
    "        response.raise_for_status()\n",
    "        data = response.json()\n",
    "        # Soportar referencias desde el backend (si las devuelve)\n",
    "        return {\n",
    "            \"answer\": data.get(\"answer\", \"❌ No se recibió respuesta.\"),\n",
    "            \"sources\": data.get(\"sources\", [])\n",
    "        }\n",
    "    except Exception as e:\n",
    "        return {\"answer\": f\"❌ Error al conectar con el backend: {e}\", \"sources\": []}\n",
    "\n",
    "# ========================\n",
    "# UI Streamlit\n",
    "# ========================\n",
    "st.set_page_config(page_title=\"RAG Chat Público\", page_icon=\"🤖\", layout=\"wide\")\n",
    "st.title(\"🤖 Soporte Técnico Comunitario\")\n",
    "\n",
    "# Mostrar historial global\n",
    "for msg in st.session_state.chat_history:\n",
    "    with st.chat_message(msg[\"role\"]):\n",
    "        st.markdown(msg[\"text\"])\n",
    "        # Mostrar referencias si existen\n",
    "        if \"sources\" in msg and msg[\"sources\"]:\n",
    "            st.caption(\"📖 Referencias: \" + \", \".join(msg[\"sources\"]))\n",
    "\n",
    "# Input de usuario\n",
    "user_input = st.chat_input(\"Escribe tu pregunta (visible para todos)...\")\n",
    "\n",
    "if user_input:\n",
    "    # Añadir pregunta al historial\n",
    "    st.session_state.chat_history.append({\"role\": \"user\", \"text\": user_input})\n",
    "    with st.chat_message(\"user\"):\n",
    "        st.markdown(user_input)\n",
    "\n",
    "    # Obtener respuesta del backend\n",
    "    with st.spinner(\"Pensando...\"):\n",
    "        ai_response = send_question(user_input, st.session_state.chat_history)\n",
    "\n",
    "    # Añadir respuesta al historial\n",
    "    st.session_state.chat_history.append({\n",
    "        \"role\": \"assistant\",\n",
    "        \"text\": ai_response[\"answer\"],\n",
    "        \"sources\": ai_response[\"sources\"]\n",
    "    })\n",
    "\n",
    "    with st.chat_message(\"assistant\"):\n",
    "        st.markdown(ai_response[\"answer\"])\n",
    "        if ai_response[\"sources\"]:\n",
    "            st.caption(\"📖 Referencias: \" + \", \".join(ai_response[\"sources\"]))\n",
    "\n",
    "    # Guardar historial en disco\n",
    "    with open(HISTORIAL_FILE, \"w\", encoding=\"utf-8\") as f:\n",
    "        json.dump(st.session_state.chat_history, f, ensure_ascii=False, indent=2)\n",
    "\n",
    "# Botón para reiniciar historial global\n",
    "if st.button(\"🗑️ Limpiar historial global\"):\n",
    "    st.session_state.chat_history = []\n",
    "    if os.path.exists(HISTORIAL_FILE):\n",
    "        os.remove(HISTORIAL_FILE)\n",
    "    st.experimental_rerun()\n"
   ]
  },
  {
   "cell_type": "code",
   "execution_count": 11,
   "id": "980295a7",
   "metadata": {},
   "outputs": [
    {
     "name": "stdout",
     "output_type": "stream",
     "text": [
      "\u001b[0m\n",
      "\u001b[34m\u001b[1m  You can now view your Streamlit app in your browser.\u001b[0m\n",
      "\u001b[0m\n",
      "\u001b[34m  Local URL: \u001b[0m\u001b[1mhttp://localhost:8501\u001b[0m\n",
      "\u001b[34m  Network URL: \u001b[0m\u001b[1mhttp://172.19.219.77:8501\u001b[0m\n",
      "\u001b[0m\n",
      "gio: http://localhost:8501: Operation not supported\n",
      "^C\n",
      "\u001b[34m  Stopping...\u001b[0m\n"
     ]
    }
   ],
   "source": [
    "!streamlit run app_soporte.py"
   ]
  }
 ],
 "metadata": {
  "kernelspec": {
   "display_name": "Python 3 (ipykernel)",
   "language": "python",
   "name": "python3"
  },
  "language_info": {
   "codemirror_mode": {
    "name": "ipython",
    "version": 3
   },
   "file_extension": ".py",
   "mimetype": "text/x-python",
   "name": "python",
   "nbconvert_exporter": "python",
   "pygments_lexer": "ipython3",
   "version": "3.12.3"
  }
 },
 "nbformat": 4,
 "nbformat_minor": 5
}
